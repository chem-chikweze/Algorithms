{
  "nbformat": 4,
  "nbformat_minor": 0,
  "metadata": {
    "colab": {
      "name": "can data analysis.ipynb",
      "provenance": [],
      "toc_visible": true,
      "authorship_tag": "ABX9TyMdMB3EBFWm/2qBQP6zsTTg",
      "include_colab_link": true
    },
    "kernelspec": {
      "name": "python3",
      "display_name": "Python 3"
    },
    "language_info": {
      "name": "python"
    }
  },
  "cells": [
    {
      "cell_type": "markdown",
      "metadata": {
        "id": "view-in-github",
        "colab_type": "text"
      },
      "source": [
        "<a href=\"https://colab.research.google.com/github/chem-chikweze/Algorithms/blob/master/can_data_analysis.ipynb\" target=\"_parent\"><img src=\"https://colab.research.google.com/assets/colab-badge.svg\" alt=\"Open In Colab\"/></a>"
      ]
    },
    {
      "cell_type": "markdown",
      "metadata": {
        "id": "kFuZ7FH0C4xq"
      },
      "source": [
        "Insights for CCN: \n",
        "\n",
        "goal: condensing data.\n",
        "\n",
        "SURVEY 1: \n",
        "\n",
        "    initial:\n",
        "    for each school, how many students? I1\n",
        "    for each student, how did they hear about us?\n",
        "    for each student, what are they looking for to learn? I1\n",
        "\n",
        "\n",
        "SURVEY 2: \n",
        "\n",
        "    interested firms\n",
        "      how many times was a firm selected for interest?\n",
        "      can we plot this?\n",
        "    mind:\n",
        "      which classes are our students taking (majors) ? \n",
        "      can we plot this?\n",
        "    location: \n",
        "      for each student, which schools did they come from?\n",
        "      map each school to a location.  \n",
        "    graduation:\n",
        "      create a bar graph of their graduation year.\n",
        "      2020: 25% | 2021: 25% etc\n",
        "    undergraduate or not?\n",
        "      undergraduate 57% | 43% etc\n",
        "    gender of participants:\n",
        "      how many reportedly biological females and males attended?\n",
        "      female 63% | male 37% etc\n",
        "    race of participants:\n",
        "      how many races attended?\n",
        "      asian 20% | black 20% | mexican | white | etc\n",
        "    desire to network across universities?\n",
        "      northwestern 20% | rochester 20% | harvard 20% | etc\n",
        "    desire for trading competition    \n",
        "      absolutely 20% | yes 20% | no etc\n",
        "    desire to learn algorithmic trading\n",
        "      absolutely 20% | yes 20% | no etc\n",
        "    desire to meet industry professionals\n",
        "      absolutely 20% | yes 20% | no etc\n",
        "    skills that are of interest to attendees.\n",
        "      coding trading strategies 20% | technical analysis etc\n",
        "    skills that students already have, experience and confidence:\n",
        "      skill, experience [70, 20, 10], confidence [10, 20, 30]\n",
        "      \n",
        "    for technical analysis, experience was 50% project, 45% dabbled, 5% masters. Confidence was 70%, 30% and 10% \n",
        "\n",
        "    excel skills that students might have:\n",
        "      {macros, financial modelling}, [23, 67]\n",
        "\n",
        "      \"so we have about 300 students of which 78% major in finance, 20% in computer science, and 10% in business. Of these students, 30% are interested in Goldman Sachs, 20% in JP Morgan and 50% in Accenture\"  \n",
        " \n",
        "Survey 3 to 9:\n",
        "\n",
        "    any other events you would like ccn to organize (field 13)\n",
        "    interested team for the competition\n",
        "    how did you hear about us?\n",
        "\n",
        "    other skills and confidence? \n",
        "\n",
        "    other questions asked?\n",
        "\n",
        "\n"
      ]
    },
    {
      "cell_type": "code",
      "metadata": {
        "id": "TJuSStitQzlC"
      },
      "source": [
        ""
      ],
      "execution_count": null,
      "outputs": []
    },
    {
      "cell_type": "markdown",
      "metadata": {
        "id": "Ulk2zCZCQ0BR"
      },
      "source": [
        ""
      ]
    },
    {
      "cell_type": "code",
      "metadata": {
        "id": "ZZK5I8hxHQsu"
      },
      "source": [
        ""
      ],
      "execution_count": null,
      "outputs": []
    },
    {
      "cell_type": "code",
      "metadata": {
        "id": "bkLoMwX6HO8z"
      },
      "source": [
        ""
      ],
      "execution_count": null,
      "outputs": []
    },
    {
      "cell_type": "markdown",
      "metadata": {
        "id": "PofJjfcGFWeX"
      },
      "source": [
        "\n",
        "\n",
        "Interest:\n",
        "\n",
        "    number of schools\n",
        "      individually\n",
        "    frequency of occurrence of schools throughout survey\n",
        "      for each school in a survey, how many students?\n",
        "    location of schools (span across the US)\n",
        "      get list of schools\n",
        "      get geo location of each school\n",
        "      stretch: map schools\n",
        "\n",
        "Interest 2: \n",
        "\n",
        "    what are we looking for?\n",
        "      overall, what are students looking to learn?\n",
        "      for each interest in a survey, how many students want it?\n",
        "    \n",
        "\n",
        "Skills:\n",
        "\n",
        "Diversity:\n",
        "\n"
      ]
    },
    {
      "cell_type": "code",
      "metadata": {
        "id": "h4A-Y7W8P0sy"
      },
      "source": [
        ""
      ],
      "execution_count": null,
      "outputs": []
    }
  ]
}