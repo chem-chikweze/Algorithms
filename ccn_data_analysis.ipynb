{
  "nbformat": 4,
  "nbformat_minor": 0,
  "metadata": {
    "colab": {
      "name": "ccn data analysis.ipynb",
      "provenance": [],
      "collapsed_sections": [],
      "mount_file_id": "1osAwJnWBEVxzpj8zaxL2mC8khoEZIrq1",
      "authorship_tag": "ABX9TyOi1WedXKPbUZs15nMtyp2C",
      "include_colab_link": true
    },
    "kernelspec": {
      "name": "python3",
      "display_name": "Python 3"
    },
    "language_info": {
      "name": "python"
    }
  },
  "cells": [
    {
      "cell_type": "markdown",
      "metadata": {
        "id": "view-in-github",
        "colab_type": "text"
      },
      "source": [
        "<a href=\"https://colab.research.google.com/github/chem-chikweze/Algorithms/blob/master/ccn_data_analysis.ipynb\" target=\"_parent\"><img src=\"https://colab.research.google.com/assets/colab-badge.svg\" alt=\"Open In Colab\"/></a>"
      ]
    },
    {
      "cell_type": "markdown",
      "metadata": {
        "id": "kFuZ7FH0C4xq"
      },
      "source": [
        "Insights for CCN: \n",
        "\n",
        "goal: condensing data.\n",
        "\n",
        "SURVEY 1: \n",
        "\n",
        "    initial:\n",
        "    for each school, how many students? I1\n",
        "    for each student, how did they hear about us?\n",
        "    for each student, what are they looking for to learn? I1\n",
        "\n",
        "\n",
        "SURVEY 2: \n",
        "\n",
        "    interested firms\n",
        "      how many times was a firm selected for interest?\n",
        "      can we plot this?\n",
        "    mind:\n",
        "      which classes are our students taking (majors) ? \n",
        "      can we plot this?\n",
        "    location: \n",
        "      for each student, which schools did they come from?\n",
        "      map each school to a location.  \n",
        "    graduation:\n",
        "      create a bar graph of their graduation year.\n",
        "      2020: 25% | 2021: 25% etc\n",
        "    undergraduate or not?\n",
        "      undergraduate 57% | 43% etc\n",
        "    gender of participants:\n",
        "      how many reportedly biological females and males attended?\n",
        "      female 63% | male 37% etc\n",
        "    race of participants:\n",
        "      how many races attended?\n",
        "      asian 20% | black 20% | mexican | white | etc\n",
        "    desire to network across universities?\n",
        "      northwestern 20% | rochester 20% | harvard 20% | etc\n",
        "    desire for trading competition    \n",
        "      absolutely 20% | yes 20% | no etc\n",
        "    desire to learn algorithmic trading\n",
        "      absolutely 20% | yes 20% | no etc\n",
        "    desire to meet industry professionals\n",
        "      absolutely 20% | yes 20% | no etc\n",
        "    skills that are of interest to attendees.\n",
        "      coding trading strategies 20% | technical analysis etc\n",
        "    skills that students already have, experience and confidence:\n",
        "      skill, experience [70, 20, 10], confidence [10, 20, 30]\n",
        "      \n",
        "    for technical analysis, experience was 50% project, 45% dabbled, 5% masters. Confidence was 70%, 30% and 10% \n",
        "\n",
        "    excel skills that students might have:\n",
        "      {macros, financial modelling}, [23, 67]\n",
        "\n",
        "      \"so we have about 300 students of which 78% major in finance, 20% in computer science, and 10% in business. Of these students, 30% are interested in Goldman Sachs, 20% in JP Morgan and 50% in Accenture\"  \n",
        " \n",
        "\n",
        "\n",
        "\n",
        "Survey 3 to 9:\n",
        "\n",
        "    any other events you would like ccn to organize (field 13)\n",
        "    interested team for the competition\n",
        "    how did you hear about us?\n",
        "\n",
        "    other skills and confidence? \n",
        "\n",
        "    other questions asked?\n",
        "\n"
      ]
    },
    {
      "cell_type": "code",
      "metadata": {
        "id": "8TKUNsj626TN"
      },
      "source": [
        "import pandas as pd\n",
        "\n",
        "# URL to .csv file\n",
        "data_url = 'https://vincentarelbundock.github.io/Rdatasets/csv/carData/Arrests.csv'\n",
        "\n",
        "# Reading the data\n",
        "df = pd.read_csv(data_url, index_col=0)"
      ],
      "execution_count": 6,
      "outputs": []
    },
    {
      "cell_type": "code",
      "metadata": {
        "id": "GwWL08Xq0JwV"
      },
      "source": [
        "# number of occurence of variables in column 'col' of data 'data' \n",
        "# -> where there might be more than one variable in a row\n",
        "\n",
        "# should return a map of {variable, num_occurrence}"
      ],
      "execution_count": 4,
      "outputs": []
    },
    {
      "cell_type": "code",
      "metadata": {
        "colab": {
          "base_uri": "https://localhost:8080/"
        },
        "id": "L-M6xmnR2Z1t",
        "outputId": "5bd2a4e0-525b-4917-c457-83f5840a2095"
      },
      "source": [
        "# number of occurence of variables in column 'col' of data 'data' \n",
        "# -> where there is only one variable per row.\n",
        "df['sex'].value_counts()\n",
        "# should return a map of {variable, num_occurrence}"
      ],
      "execution_count": 7,
      "outputs": [
        {
          "output_type": "execute_result",
          "data": {
            "text/plain": [
              "Male      4783\n",
              "Female     443\n",
              "Name: sex, dtype: int64"
            ]
          },
          "metadata": {
            "tags": []
          },
          "execution_count": 7
        }
      ]
    },
    {
      "cell_type": "markdown",
      "metadata": {
        "id": "DL31FVZe3J0N"
      },
      "source": [
        "# New Section"
      ]
    },
    {
      "cell_type": "code",
      "metadata": {
        "id": "CDjPRgC94igA"
      },
      "source": [
        ""
      ],
      "execution_count": null,
      "outputs": []
    }
  ]
}